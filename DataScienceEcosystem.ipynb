{
 "cells": [
  {
   "cell_type": "markdown",
   "id": "fe8a4962",
   "metadata": {},
   "source": [
    "# Data Science Tools and Ecosystem"
   ]
  },
  {
   "cell_type": "markdown",
   "id": "ef316c4e",
   "metadata": {},
   "source": [
    "## In this notebook , Data science tools and ecosystem are summarized."
   ]
  },
  {
   "cell_type": "markdown",
   "id": "ff56ffe4",
   "metadata": {},
   "source": [
    "###### Objectives:\n"
   ]
  },
  {
   "cell_type": "markdown",
   "id": "7417770b",
   "metadata": {},
   "source": [
    "1.Some of the popular languges that Data scientists uses.\n",
    "2.Some of the commonly used libraries used by data scientists\n",
    "3.Data Science tools"
   ]
  },
  {
   "cell_type": "markdown",
   "id": "cf80a368",
   "metadata": {},
   "source": [
    "### Some of the popular languges that Data scientists use are:"
   ]
  },
  {
   "cell_type": "markdown",
   "id": "2974c3b5",
   "metadata": {},
   "source": [
    "1. Python\n",
    "2. R\n",
    "3. Scala\n",
    "4. julia\n",
    "5. Javascripts"
   ]
  },
  {
   "cell_type": "markdown",
   "id": "0e9a8d50",
   "metadata": {},
   "source": [
    "## Author"
   ]
  },
  {
   "cell_type": "markdown",
   "id": "c1eb9a52",
   "metadata": {},
   "source": [
    "Rohit Kashyap"
   ]
  },
  {
   "cell_type": "markdown",
   "id": "fa6c0b0a",
   "metadata": {},
   "source": [
    "##### Some of the commonly used libraries used by data scientists include:"
   ]
  },
  {
   "cell_type": "code",
   "execution_count": 1,
   "id": "fe04f15d",
   "metadata": {},
   "outputs": [],
   "source": [
    "#1. Pandas: for data manipulation\n",
    "#2. Numpy: for mathmetical maipulation and operations\n",
    "#3. scikit: For Machine learning model\n",
    "#4. seaborn, plotly for visualization\n"
   ]
  },
  {
   "cell_type": "markdown",
   "id": "0bf4cf2a",
   "metadata": {},
   "source": [
    "Data Science Tools"
   ]
  },
  {
   "cell_type": "code",
   "execution_count": 3,
   "id": "f76ceaf5",
   "metadata": {},
   "outputs": [],
   "source": [
    "#Anaconda\n",
    "#Tableau\n",
    "#VScode\n",
    "#Ibm watson studio\n"
   ]
  },
  {
   "cell_type": "markdown",
   "id": "e6dcb636",
   "metadata": {},
   "source": [
    "### Below are a few examples of evaluating arithmetic expressions in Python"
   ]
  },
  {
   "cell_type": "code",
   "execution_count": 4,
   "id": "55f26eb7",
   "metadata": {},
   "outputs": [
    {
     "data": {
      "text/plain": [
       "17"
      ]
     },
     "execution_count": 4,
     "metadata": {},
     "output_type": "execute_result"
    }
   ],
   "source": [
    "(3*4)+5"
   ]
  },
  {
   "cell_type": "markdown",
   "id": "98bd7182",
   "metadata": {},
   "source": [
    "#Exercise 9 - Create a code cell to convert minutes to hours"
   ]
  },
  {
   "cell_type": "code",
   "execution_count": 7,
   "id": "2c8f5144",
   "metadata": {},
   "outputs": [
    {
     "name": "stdout",
     "output_type": "stream",
     "text": [
      "3.3333333333333335\n"
     ]
    }
   ],
   "source": [
    "minute=200\n",
    "hour=minute/60\n",
    "print(hour)\n"
   ]
  },
  {
   "cell_type": "markdown",
   "id": "b92ddd55",
   "metadata": {},
   "source": [
    "Objectives:"
   ]
  },
  {
   "cell_type": "code",
   "execution_count": null,
   "id": "17f31ff6",
   "metadata": {},
   "outputs": [],
   "source": []
  }
 ],
 "metadata": {
  "kernelspec": {
   "display_name": "Python 3 (ipykernel)",
   "language": "python",
   "name": "python3"
  },
  "language_info": {
   "codemirror_mode": {
    "name": "ipython",
    "version": 3
   },
   "file_extension": ".py",
   "mimetype": "text/x-python",
   "name": "python",
   "nbconvert_exporter": "python",
   "pygments_lexer": "ipython3",
   "version": "3.9.13"
  }
 },
 "nbformat": 4,
 "nbformat_minor": 5
}
